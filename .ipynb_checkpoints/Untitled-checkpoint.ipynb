{
 "cells": [
  {
   "cell_type": "code",
   "execution_count": 1,
   "metadata": {},
   "outputs": [
    {
     "name": "stdout",
     "output_type": "stream",
     "text": [
      "    leftEAR  xLStart  xLEnd  yLStart  yLEnd  xL  yL  wL  hL  xLPoint  ...  \\\n",
      "0  0.360302      224    246      105    114   3   0  19   8       12  ...   \n",
      "1  0.377124      224    245      105    114   0   0  21   7       10  ...   \n",
      "2  0.360302      224    246      104    113   0   0  22   8       11  ...   \n",
      "3  0.380058      224    245      104    113   0   0  21   7       10  ...   \n",
      "4  0.360302      224    246      104    113   0   0  22   7       11  ...   \n",
      "\n",
      "   xRPoint  yRPoint  xREst  xRMi   xRM     yREst  yRMi  yRM  xOut  yOut  \n",
      "0       11        3   -1.0   715 -1366  0.153429   288  117   651   390  \n",
      "1       12        3   -0.5   780  -683  0.155985   288  119   651   390  \n",
      "2       12        3   -0.5   780  -683  0.153429   288  117   651   390  \n",
      "3       12        3   -0.5   780  -683  0.162149   288  124   651   390  \n",
      "4       12        3   -0.5   780  -683  0.310924   288  238   651   390  \n",
      "\n",
      "[5 rows x 36 columns]\n"
     ]
    }
   ],
   "source": [
    "import pandas as pd\n",
    "df = pd.read_csv('trainset.csv')\n",
    "print(df.head())"
   ]
  },
  {
   "cell_type": "code",
   "execution_count": 2,
   "metadata": {},
   "outputs": [],
   "source": [
    "import matplotlib.pyplot as plt"
   ]
  },
  {
   "cell_type": "code",
   "execution_count": 6,
   "metadata": {},
   "outputs": [],
   "source": [
    "def avg(l,r):\n",
    "    return int((l+r)/2)"
   ]
  },
  {
   "cell_type": "code",
   "execution_count": 22,
   "metadata": {},
   "outputs": [],
   "source": [
    "ok = df['xRM'].apply(lambda x: (df['xRM'].astype(int)  + df['xLM'].astype(int)), axis=1)"
   ]
  },
  {
   "cell_type": "code",
   "execution_count": 23,
   "metadata": {},
   "outputs": [
    {
     "name": "stdout",
     "output_type": "stream",
     "text": [
      "      0     1     2     3     4     5     6     7     8     9     ...  1659  \\\n",
      "0    -2049 -2732 -2049 -2732 -2049 -2049 -2732 -1366 -2732 -2049  ... -6830   \n",
      "1    -2049 -2732 -2049 -2732 -2049 -2049 -2732 -1366 -2732 -2049  ... -6830   \n",
      "2    -2049 -2732 -2049 -2732 -2049 -2049 -2732 -1366 -2732 -2049  ... -6830   \n",
      "3    -2049 -2732 -2049 -2732 -2049 -2049 -2732 -1366 -2732 -2049  ... -6830   \n",
      "4    -2049 -2732 -2049 -2732 -2049 -2049 -2732 -1366 -2732 -2049  ... -6830   \n",
      "5    -2049 -2732 -2049 -2732 -2049 -2049 -2732 -1366 -2732 -2049  ... -6830   \n",
      "6    -2049 -2732 -2049 -2732 -2049 -2049 -2732 -1366 -2732 -2049  ... -6830   \n",
      "7    -2049 -2732 -2049 -2732 -2049 -2049 -2732 -1366 -2732 -2049  ... -6830   \n",
      "8    -2049 -2732 -2049 -2732 -2049 -2049 -2732 -1366 -2732 -2049  ... -6830   \n",
      "9    -2049 -2732 -2049 -2732 -2049 -2049 -2732 -1366 -2732 -2049  ... -6830   \n",
      "10   -2049 -2732 -2049 -2732 -2049 -2049 -2732 -1366 -2732 -2049  ... -6830   \n",
      "11   -2049 -2732 -2049 -2732 -2049 -2049 -2732 -1366 -2732 -2049  ... -6830   \n",
      "12   -2049 -2732 -2049 -2732 -2049 -2049 -2732 -1366 -2732 -2049  ... -6830   \n",
      "13   -2049 -2732 -2049 -2732 -2049 -2049 -2732 -1366 -2732 -2049  ... -6830   \n",
      "14   -2049 -2732 -2049 -2732 -2049 -2049 -2732 -1366 -2732 -2049  ... -6830   \n",
      "15   -2049 -2732 -2049 -2732 -2049 -2049 -2732 -1366 -2732 -2049  ... -6830   \n",
      "16   -2049 -2732 -2049 -2732 -2049 -2049 -2732 -1366 -2732 -2049  ... -6830   \n",
      "17   -2049 -2732 -2049 -2732 -2049 -2049 -2732 -1366 -2732 -2049  ... -6830   \n",
      "18   -2049 -2732 -2049 -2732 -2049 -2049 -2732 -1366 -2732 -2049  ... -6830   \n",
      "19   -2049 -2732 -2049 -2732 -2049 -2049 -2732 -1366 -2732 -2049  ... -6830   \n",
      "20   -2049 -2732 -2049 -2732 -2049 -2049 -2732 -1366 -2732 -2049  ... -6830   \n",
      "21   -2049 -2732 -2049 -2732 -2049 -2049 -2732 -1366 -2732 -2049  ... -6830   \n",
      "22   -2049 -2732 -2049 -2732 -2049 -2049 -2732 -1366 -2732 -2049  ... -6830   \n",
      "23   -2049 -2732 -2049 -2732 -2049 -2049 -2732 -1366 -2732 -2049  ... -6830   \n",
      "24   -2049 -2732 -2049 -2732 -2049 -2049 -2732 -1366 -2732 -2049  ... -6830   \n",
      "25   -2049 -2732 -2049 -2732 -2049 -2049 -2732 -1366 -2732 -2049  ... -6830   \n",
      "26   -2049 -2732 -2049 -2732 -2049 -2049 -2732 -1366 -2732 -2049  ... -6830   \n",
      "27   -2049 -2732 -2049 -2732 -2049 -2049 -2732 -1366 -2732 -2049  ... -6830   \n",
      "28   -2049 -2732 -2049 -2732 -2049 -2049 -2732 -1366 -2732 -2049  ... -6830   \n",
      "29   -2049 -2732 -2049 -2732 -2049 -2049 -2732 -1366 -2732 -2049  ... -6830   \n",
      "...    ...   ...   ...   ...   ...   ...   ...   ...   ...   ...  ...   ...   \n",
      "1639 -2049 -2732 -2049 -2732 -2049 -2049 -2732 -1366 -2732 -2049  ... -6830   \n",
      "1640 -2049 -2732 -2049 -2732 -2049 -2049 -2732 -1366 -2732 -2049  ... -6830   \n",
      "1641 -2049 -2732 -2049 -2732 -2049 -2049 -2732 -1366 -2732 -2049  ... -6830   \n",
      "1642 -2049 -2732 -2049 -2732 -2049 -2049 -2732 -1366 -2732 -2049  ... -6830   \n",
      "1643 -2049 -2732 -2049 -2732 -2049 -2049 -2732 -1366 -2732 -2049  ... -6830   \n",
      "1644 -2049 -2732 -2049 -2732 -2049 -2049 -2732 -1366 -2732 -2049  ... -6830   \n",
      "1645 -2049 -2732 -2049 -2732 -2049 -2049 -2732 -1366 -2732 -2049  ... -6830   \n",
      "1646 -2049 -2732 -2049 -2732 -2049 -2049 -2732 -1366 -2732 -2049  ... -6830   \n",
      "1647 -2049 -2732 -2049 -2732 -2049 -2049 -2732 -1366 -2732 -2049  ... -6830   \n",
      "1648 -2049 -2732 -2049 -2732 -2049 -2049 -2732 -1366 -2732 -2049  ... -6830   \n",
      "1649 -2049 -2732 -2049 -2732 -2049 -2049 -2732 -1366 -2732 -2049  ... -6830   \n",
      "1650 -2049 -2732 -2049 -2732 -2049 -2049 -2732 -1366 -2732 -2049  ... -6830   \n",
      "1651 -2049 -2732 -2049 -2732 -2049 -2049 -2732 -1366 -2732 -2049  ... -6830   \n",
      "1652 -2049 -2732 -2049 -2732 -2049 -2049 -2732 -1366 -2732 -2049  ... -6830   \n",
      "1653 -2049 -2732 -2049 -2732 -2049 -2049 -2732 -1366 -2732 -2049  ... -6830   \n",
      "1654 -2049 -2732 -2049 -2732 -2049 -2049 -2732 -1366 -2732 -2049  ... -6830   \n",
      "1655 -2049 -2732 -2049 -2732 -2049 -2049 -2732 -1366 -2732 -2049  ... -6830   \n",
      "1656 -2049 -2732 -2049 -2732 -2049 -2049 -2732 -1366 -2732 -2049  ... -6830   \n",
      "1657 -2049 -2732 -2049 -2732 -2049 -2049 -2732 -1366 -2732 -2049  ... -6830   \n",
      "1658 -2049 -2732 -2049 -2732 -2049 -2049 -2732 -1366 -2732 -2049  ... -6830   \n",
      "1659 -2049 -2732 -2049 -2732 -2049 -2049 -2732 -1366 -2732 -2049  ... -6830   \n",
      "1660 -2049 -2732 -2049 -2732 -2049 -2049 -2732 -1366 -2732 -2049  ... -6830   \n",
      "1661 -2049 -2732 -2049 -2732 -2049 -2049 -2732 -1366 -2732 -2049  ... -6830   \n",
      "1662 -2049 -2732 -2049 -2732 -2049 -2049 -2732 -1366 -2732 -2049  ... -6830   \n",
      "1663 -2049 -2732 -2049 -2732 -2049 -2049 -2732 -1366 -2732 -2049  ... -6830   \n",
      "1664 -2049 -2732 -2049 -2732 -2049 -2049 -2732 -1366 -2732 -2049  ... -6830   \n",
      "1665 -2049 -2732 -2049 -2732 -2049 -2049 -2732 -1366 -2732 -2049  ... -6830   \n",
      "1666 -2049 -2732 -2049 -2732 -2049 -2049 -2732 -1366 -2732 -2049  ... -6830   \n",
      "1667 -2049 -2732 -2049 -2732 -2049 -2049 -2732 -1366 -2732 -2049  ... -6830   \n",
      "1668 -2049 -2732 -2049 -2732 -2049 -2049 -2732 -1366 -2732 -2049  ... -6830   \n",
      "\n",
      "      1660  1661  1662  1663  1664  1665  1666  1667  1668  \n",
      "0    -6830 -6830 -6147 -4098 -6830 -6830 -6830 -6830 -6830  \n",
      "1    -6830 -6830 -6147 -4098 -6830 -6830 -6830 -6830 -6830  \n",
      "2    -6830 -6830 -6147 -4098 -6830 -6830 -6830 -6830 -6830  \n",
      "3    -6830 -6830 -6147 -4098 -6830 -6830 -6830 -6830 -6830  \n",
      "4    -6830 -6830 -6147 -4098 -6830 -6830 -6830 -6830 -6830  \n",
      "5    -6830 -6830 -6147 -4098 -6830 -6830 -6830 -6830 -6830  \n",
      "6    -6830 -6830 -6147 -4098 -6830 -6830 -6830 -6830 -6830  \n",
      "7    -6830 -6830 -6147 -4098 -6830 -6830 -6830 -6830 -6830  \n",
      "8    -6830 -6830 -6147 -4098 -6830 -6830 -6830 -6830 -6830  \n",
      "9    -6830 -6830 -6147 -4098 -6830 -6830 -6830 -6830 -6830  \n",
      "10   -6830 -6830 -6147 -4098 -6830 -6830 -6830 -6830 -6830  \n",
      "11   -6830 -6830 -6147 -4098 -6830 -6830 -6830 -6830 -6830  \n",
      "12   -6830 -6830 -6147 -4098 -6830 -6830 -6830 -6830 -6830  \n",
      "13   -6830 -6830 -6147 -4098 -6830 -6830 -6830 -6830 -6830  \n",
      "14   -6830 -6830 -6147 -4098 -6830 -6830 -6830 -6830 -6830  \n",
      "15   -6830 -6830 -6147 -4098 -6830 -6830 -6830 -6830 -6830  \n",
      "16   -6830 -6830 -6147 -4098 -6830 -6830 -6830 -6830 -6830  \n",
      "17   -6830 -6830 -6147 -4098 -6830 -6830 -6830 -6830 -6830  \n",
      "18   -6830 -6830 -6147 -4098 -6830 -6830 -6830 -6830 -6830  \n",
      "19   -6830 -6830 -6147 -4098 -6830 -6830 -6830 -6830 -6830  \n",
      "20   -6830 -6830 -6147 -4098 -6830 -6830 -6830 -6830 -6830  \n",
      "21   -6830 -6830 -6147 -4098 -6830 -6830 -6830 -6830 -6830  \n",
      "22   -6830 -6830 -6147 -4098 -6830 -6830 -6830 -6830 -6830  \n",
      "23   -6830 -6830 -6147 -4098 -6830 -6830 -6830 -6830 -6830  \n",
      "24   -6830 -6830 -6147 -4098 -6830 -6830 -6830 -6830 -6830  \n",
      "25   -6830 -6830 -6147 -4098 -6830 -6830 -6830 -6830 -6830  \n",
      "26   -6830 -6830 -6147 -4098 -6830 -6830 -6830 -6830 -6830  \n",
      "27   -6830 -6830 -6147 -4098 -6830 -6830 -6830 -6830 -6830  \n",
      "28   -6830 -6830 -6147 -4098 -6830 -6830 -6830 -6830 -6830  \n",
      "29   -6830 -6830 -6147 -4098 -6830 -6830 -6830 -6830 -6830  \n",
      "...    ...   ...   ...   ...   ...   ...   ...   ...   ...  \n",
      "1639 -6830 -6830 -6147 -4098 -6830 -6830 -6830 -6830 -6830  \n",
      "1640 -6830 -6830 -6147 -4098 -6830 -6830 -6830 -6830 -6830  \n",
      "1641 -6830 -6830 -6147 -4098 -6830 -6830 -6830 -6830 -6830  \n",
      "1642 -6830 -6830 -6147 -4098 -6830 -6830 -6830 -6830 -6830  \n",
      "1643 -6830 -6830 -6147 -4098 -6830 -6830 -6830 -6830 -6830  \n",
      "1644 -6830 -6830 -6147 -4098 -6830 -6830 -6830 -6830 -6830  \n",
      "1645 -6830 -6830 -6147 -4098 -6830 -6830 -6830 -6830 -6830  \n",
      "1646 -6830 -6830 -6147 -4098 -6830 -6830 -6830 -6830 -6830  \n",
      "1647 -6830 -6830 -6147 -4098 -6830 -6830 -6830 -6830 -6830  \n",
      "1648 -6830 -6830 -6147 -4098 -6830 -6830 -6830 -6830 -6830  \n",
      "1649 -6830 -6830 -6147 -4098 -6830 -6830 -6830 -6830 -6830  \n",
      "1650 -6830 -6830 -6147 -4098 -6830 -6830 -6830 -6830 -6830  \n",
      "1651 -6830 -6830 -6147 -4098 -6830 -6830 -6830 -6830 -6830  \n",
      "1652 -6830 -6830 -6147 -4098 -6830 -6830 -6830 -6830 -6830  \n",
      "1653 -6830 -6830 -6147 -4098 -6830 -6830 -6830 -6830 -6830  \n",
      "1654 -6830 -6830 -6147 -4098 -6830 -6830 -6830 -6830 -6830  \n",
      "1655 -6830 -6830 -6147 -4098 -6830 -6830 -6830 -6830 -6830  \n",
      "1656 -6830 -6830 -6147 -4098 -6830 -6830 -6830 -6830 -6830  \n",
      "1657 -6830 -6830 -6147 -4098 -6830 -6830 -6830 -6830 -6830  \n",
      "1658 -6830 -6830 -6147 -4098 -6830 -6830 -6830 -6830 -6830  \n",
      "1659 -6830 -6830 -6147 -4098 -6830 -6830 -6830 -6830 -6830  \n",
      "1660 -6830 -6830 -6147 -4098 -6830 -6830 -6830 -6830 -6830  \n",
      "1661 -6830 -6830 -6147 -4098 -6830 -6830 -6830 -6830 -6830  \n",
      "1662 -6830 -6830 -6147 -4098 -6830 -6830 -6830 -6830 -6830  \n",
      "1663 -6830 -6830 -6147 -4098 -6830 -6830 -6830 -6830 -6830  \n",
      "1664 -6830 -6830 -6147 -4098 -6830 -6830 -6830 -6830 -6830  \n",
      "1665 -6830 -6830 -6147 -4098 -6830 -6830 -6830 -6830 -6830  \n",
      "1666 -6830 -6830 -6147 -4098 -6830 -6830 -6830 -6830 -6830  \n",
      "1667 -6830 -6830 -6147 -4098 -6830 -6830 -6830 -6830 -6830  \n",
      "1668 -6830 -6830 -6147 -4098 -6830 -6830 -6830 -6830 -6830  \n",
      "\n",
      "[1669 rows x 1669 columns]\n"
     ]
    }
   ],
   "source": [
    "print(ok)"
   ]
  },
  {
   "cell_type": "code",
   "execution_count": 5,
   "metadata": {},
   "outputs": [
    {
     "data": {
      "text/plain": [
       "Text(0,0.5,'actual_X')"
      ]
     },
     "execution_count": 5,
     "metadata": {},
     "output_type": "execute_result"
    },
    {
     "data": {
      "image/png": "[encoded data removed]",
      "text/plain": [
       "<Figure size 432x288 with 1 Axes>"
      ]
     },
     "metadata": {
      "needs_background": "light"
     },
     "output_type": "display_data"
    }
   ],
   "source": [
    "fig, ax = plt.subplots()\n",
    "ax.scatter(df['xRM'], df['xOut'])\n",
    "ax.set_title('Eye Dataset')\n",
    "ax.set_xlabel('generated_X')\n",
    "ax.set_ylabel('actual_X')"
   ]
  },
  {
   "cell_type": "code",
   "execution_count": null,
   "metadata": {},
   "outputs": [],
   "source": []
  }
 ],
 "metadata": {
  "kernelspec": {
   "display_name": "Python 2",
   "language": "python",
   "name": "python2"
  },
  "language_info": {
   "codemirror_mode": {
    "name": "ipython",
    "version": 2
   },
   "file_extension": ".py",
   "mimetype": "text/x-python",
   "name": "python",
   "nbconvert_exporter": "python",
   "pygments_lexer": "ipython2",
   "version": "2.7.16"
  }
 },
 "nbformat": 4,
 "nbformat_minor": 2
}
