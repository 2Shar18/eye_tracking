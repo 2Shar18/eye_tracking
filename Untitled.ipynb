{
 "cells": [
  {
   "cell_type": "code",
   "execution_count": 1,
   "metadata": {},
   "outputs": [
    {
     "name": "stdout",
     "output_type": "stream",
     "text": [
      "    leftEAR  xLStart  xLEnd  yLStart  yLEnd  xL  yL  wL  hL  xLPoint  ...  \\\n",
      "0  0.360302      224    246      105    114   3   0  19   8       12  ...   \n",
      "1  0.377124      224    245      105    114   0   0  21   7       10  ...   \n",
      "2  0.360302      224    246      104    113   0   0  22   8       11  ...   \n",
      "3  0.380058      224    245      104    113   0   0  21   7       10  ...   \n",
      "4  0.360302      224    246      104    113   0   0  22   7       11  ...   \n",
      "\n",
      "   xRPoint  yRPoint  xREst  xRMi   xRM     yREst  yRMi  yRM  xOut  yOut  \n",
      "0       11        3   -1.0   715 -1366  0.153429   288  117   651   390  \n",
      "1       12        3   -0.5   780  -683  0.155985   288  119   651   390  \n",
      "2       12        3   -0.5   780  -683  0.153429   288  117   651   390  \n",
      "3       12        3   -0.5   780  -683  0.162149   288  124   651   390  \n",
      "4       12        3   -0.5   780  -683  0.310924   288  238   651   390  \n",
      "\n",
      "[5 rows x 36 columns]\n"
     ]
    }
   ],
   "source": [
    "import pandas as pd\n",
    "df = pd.read_csv('trainset.csv')\n",
    "print(df.head())"
   ]
  },
  {
   "cell_type": "code",
   "execution_count": 2,
   "metadata": {},
   "outputs": [],
   "source": [
    "import matplotlib.pyplot as plt"
   ]
  },
  {
   "cell_type": "code",
   "execution_count": 6,
   "metadata": {},
   "outputs": [],
   "source": [
    "def avg(l,r):\n",
    "    return int((l+r)/2)"
   ]
  },
  {
   "cell_type": "code",
   "execution_count": 32,
   "metadata": {},
   "outputs": [],
   "source": [
    "df['xM'] = df['xRM'].apply(lambda x: ((df['xRM'].astype(int)  + df['xLM'].astype(int))/2).astype(int)).loc[0]"
   ]
  },
  {
   "cell_type": "code",
   "execution_count": 27,
   "metadata": {},
   "outputs": [
    {
     "name": "stdout",
     "output_type": "stream",
     "text": [
      "(0      -1366\n",
      "1       -683\n",
      "2       -683\n",
      "3       -683\n",
      "4       -683\n",
      "5       -683\n",
      "6       -683\n",
      "7       -683\n",
      "8       -683\n",
      "9          0\n",
      "10      -683\n",
      "11     -1366\n",
      "12      -683\n",
      "13       683\n",
      "14      -683\n",
      "15         0\n",
      "16      -683\n",
      "17      -683\n",
      "18      -683\n",
      "19         0\n",
      "20       683\n",
      "21     -1366\n",
      "22      -683\n",
      "23         0\n",
      "24       683\n",
      "25      -683\n",
      "26         0\n",
      "27      -683\n",
      "28         0\n",
      "29         0\n",
      "        ... \n",
      "1639    1356\n",
      "1640     683\n",
      "1641   -2732\n",
      "1642   -2732\n",
      "1643    1356\n",
      "1644   -2049\n",
      "1645    -683\n",
      "1646   -3415\n",
      "1647   -4781\n",
      "1648   -4781\n",
      "1649   -4781\n",
      "1650   -4781\n",
      "1651   -2049\n",
      "1652   -4781\n",
      "1653   -4781\n",
      "1654   -4781\n",
      "1655   -4781\n",
      "1656   -2732\n",
      "1657   -2049\n",
      "1658   -4781\n",
      "1659   -4781\n",
      "1660   -4781\n",
      "1661   -4781\n",
      "1662   -4098\n",
      "1663   -2049\n",
      "1664   -4781\n",
      "1665   -4781\n",
      "1666   -4781\n",
      "1667   -4781\n",
      "1668   -4781\n",
      "Name: xRM, Length: 1669, dtype: int64, 0       -683\n",
      "1      -2049\n",
      "2      -1366\n",
      "3      -2049\n",
      "4      -1366\n",
      "5      -1366\n",
      "6      -2049\n",
      "7       -683\n",
      "8      -2049\n",
      "9      -2049\n",
      "10     -2049\n",
      "11     -2049\n",
      "12      -683\n",
      "13     -2049\n",
      "14     -2049\n",
      "15     -2049\n",
      "16     -2049\n",
      "17         0\n",
      "18     -2049\n",
      "19     -2049\n",
      "20     -2049\n",
      "21     -2049\n",
      "22     -1366\n",
      "23     -2049\n",
      "24     -2049\n",
      "25     -1366\n",
      "26     -1366\n",
      "27     -2049\n",
      "28     -2049\n",
      "29     -2049\n",
      "        ... \n",
      "1639    1356\n",
      "1640    1356\n",
      "1641    1356\n",
      "1642    1356\n",
      "1643     683\n",
      "1644     683\n",
      "1645    -683\n",
      "1646   -2049\n",
      "1647   -4098\n",
      "1648   -4098\n",
      "1649   -2049\n",
      "1650   -2049\n",
      "1651   -2049\n",
      "1652   -2049\n",
      "1653   -2049\n",
      "1654   -2049\n",
      "1655   -2049\n",
      "1656   -2049\n",
      "1657   -2049\n",
      "1658   -2049\n",
      "1659   -2049\n",
      "1660   -2049\n",
      "1661   -2049\n",
      "1662   -2049\n",
      "1663   -2049\n",
      "1664   -2049\n",
      "1665   -2049\n",
      "1666   -2049\n",
      "1667   -2049\n",
      "1668   -2049\n",
      "Name: xLM, Length: 1669, dtype: int64)\n"
     ]
    }
   ],
   "source": [
    "print(df['xRM'], df['xLM'])"
   ]
  },
  {
   "cell_type": "code",
   "execution_count": 33,
   "metadata": {},
   "outputs": [
    {
     "name": "stdout",
     "output_type": "stream",
     "text": [
      "0      -2049\n",
      "1      -2732\n",
      "2      -2049\n",
      "3      -2732\n",
      "4      -2049\n",
      "5      -2049\n",
      "6      -2732\n",
      "7      -1366\n",
      "8      -2732\n",
      "9      -2049\n",
      "10     -2732\n",
      "11     -3415\n",
      "12     -1366\n",
      "13     -1366\n",
      "14     -2732\n",
      "15     -2049\n",
      "16     -2732\n",
      "17      -683\n",
      "18     -2732\n",
      "19     -2049\n",
      "20     -1366\n",
      "21     -3415\n",
      "22     -2049\n",
      "23     -2049\n",
      "24     -1366\n",
      "25     -2049\n",
      "26     -1366\n",
      "27     -2732\n",
      "28     -2049\n",
      "29     -2049\n",
      "        ... \n",
      "1639    2712\n",
      "1640    2039\n",
      "1641   -1376\n",
      "1642   -1376\n",
      "1643    2039\n",
      "1644   -1366\n",
      "1645   -1366\n",
      "1646   -5464\n",
      "1647   -8879\n",
      "1648   -8879\n",
      "1649   -6830\n",
      "1650   -6830\n",
      "1651   -4098\n",
      "1652   -6830\n",
      "1653   -6830\n",
      "1654   -6830\n",
      "1655   -6830\n",
      "1656   -4781\n",
      "1657   -4098\n",
      "1658   -6830\n",
      "1659   -6830\n",
      "1660   -6830\n",
      "1661   -6830\n",
      "1662   -6147\n",
      "1663   -4098\n",
      "1664   -6830\n",
      "1665   -6830\n",
      "1666   -6830\n",
      "1667   -6830\n",
      "1668   -6830\n",
      "Name: 0, Length: 1669, dtype: int32\n"
     ]
    }
   ],
   "source": [
    "print(ok)"
   ]
  },
  {
   "cell_type": "code",
   "execution_count": 38,
   "metadata": {},
   "outputs": [
    {
     "data": {
      "text/plain": [
       "Text(0,0.5,'actual_X')"
      ]
     },
     "execution_count": 38,
     "metadata": {},
     "output_type": "execute_result"
    },
    {
     "data": {
      "image/png": "[encoded data removed]",
      "text/plain": [
       "<Figure size 432x288 with 1 Axes>"
      ]
     },
     "metadata": {
      "needs_background": "light"
     },
     "output_type": "display_data"
    }
   ],
   "source": [
    "fig, ax = plt.subplots()\n",
    "ax.scatter(df['xRPoint'], df['xOut'])\n",
    "ax.set_title('Eye Dataset')\n",
    "ax.set_xlabel('generated_X')\n",
    "ax.set_ylabel('actual_X')"
   ]
  },
  {
   "cell_type": "code",
   "execution_count": 46,
   "metadata": {},
   "outputs": [
    {
     "data": {
      "text/plain": [
       "Text(0,0.5,'actual_Y')"
      ]
     },
     "execution_count": 46,
     "metadata": {},
     "output_type": "execute_result"
    },
    {
     "data": {
      "image/png": "[encoded data removed]",
      "text/plain": [
       "<Figure size 432x288 with 1 Axes>"
      ]
     },
     "metadata": {
      "needs_background": "light"
     },
     "output_type": "display_data"
    }
   ],
   "source": [
    "fig, ax = plt.subplots()\n",
    "ax.scatter(df['leftEAR'], df['yOut'])\n",
    "ax.set_title('Eye Dataset')\n",
    "ax.set_xlabel('generated_Y')\n",
    "ax.set_ylabel('actual_Y')"
   ]
  },
  {
   "cell_type": "code",
   "execution_count": 40,
   "metadata": {},
   "outputs": [],
   "source": [
    "from win32api import GetSystemMetrics"
   ]
  },
  {
   "cell_type": "code",
   "execution_count": 41,
   "metadata": {},
   "outputs": [],
   "source": [
    "(xmax, ymax) = (GetSystemMetrics(0), GetSystemMetrics(1))"
   ]
  },
  {
   "cell_type": "code",
   "execution_count": 42,
   "metadata": {},
   "outputs": [
    {
     "name": "stdout",
     "output_type": "stream",
     "text": [
      "(1366, 768)\n"
     ]
    }
   ],
   "source": [
    "print(xmax, ymax)"
   ]
  },
  {
   "cell_type": "code",
   "execution_count": 48,
   "metadata": {},
   "outputs": [
    {
     "data": {
      "text/plain": [
       "<matplotlib.legend.Legend at 0x13e93f98>"
      ]
     },
     "execution_count": 48,
     "metadata": {},
     "output_type": "execute_result"
    },
    {
     "data": {
      "image/png": "[encoded data removed]",
      "text/plain": [
       "<Figure size 432x288 with 1 Axes>"
      ]
     },
     "metadata": {
      "needs_background": "light"
     },
     "output_type": "display_data"
    }
   ],
   "source": [
    "# get columns to plot\n",
    "columns = ['xLPoint']\n",
    "# create x data\n",
    "x_data = range(0, df.shape[0])\n",
    "# create figure and axis\n",
    "fig, ax = plt.subplots()\n",
    "# plot each column\n",
    "for column in columns:\n",
    "    ax.plot(x_data, df[column], label=column)\n",
    "# set title and legend\n",
    "ax.set_title('Eye Dataset')\n",
    "ax.legend()"
   ]
  },
  {
   "cell_type": "code",
   "execution_count": null,
   "metadata": {},
   "outputs": [],
   "source": [
    "\"\"\"Main Program\"\"\"\n",
    "import pandas as pd\n",
    "df = pd.read_csv('trainset.csv')\n",
    "from sklearn.model_selection import train_test_split\n",
    "x_train, x_test, y_train, y_test = train_test_split(df[[\"leftEAR\",\"xLStart\",\"xLEnd\",\"yLStart\",\"yLEnd\",\"xL\",\"yL\",\"wL\",\"hL\",\"xLPoint\",\"yLPoint\",\"rightEAR\",\"xRStart\",\"xREnd\",\"yRStart\",\"yREnd\",\"xR\",\"yR\",\"wR\",\"hR\",\"xRPoint\",\"yRPoint\"]], df['xOut'], test_size=0.25, random_state=0)\n"
   ]
  }
 ],
 "metadata": {
  "kernelspec": {
   "display_name": "Python 2",
   "language": "python",
   "name": "python2"
  },
  "language_info": {
   "codemirror_mode": {
    "name": "ipython",
    "version": 2
   },
   "file_extension": ".py",
   "mimetype": "text/x-python",
   "name": "python",
   "nbconvert_exporter": "python",
   "pygments_lexer": "ipython2",
   "version": "2.7.16"
  }
 },
 "nbformat": 4,
 "nbformat_minor": 2
}
